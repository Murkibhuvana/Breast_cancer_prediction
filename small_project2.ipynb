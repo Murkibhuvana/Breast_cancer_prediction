{
 "cells": [
  {
   "cell_type": "code",
   "execution_count": 1,
   "id": "0a2284f2",
   "metadata": {},
   "outputs": [],
   "source": [
    "# Import necessary libraries\n",
    "import numpy as np\n",
    "import pandas as pd\n",
    "from sklearn import datasets\n",
    "from sklearn.datasets import load_breast_cancer\n",
    "from sklearn.model_selection import train_test_split, KFold, GridSearchCV, RandomizedSearchCV\n",
    "from sklearn.ensemble import RandomForestClassifier\n",
    "from sklearn.metrics import accuracy_score, precision_score, recall_score, confusion_matrix"
   ]
  },
  {
   "cell_type": "code",
   "execution_count": 2,
   "id": "855aab86",
   "metadata": {},
   "outputs": [],
   "source": [
    "# Load dataset\n",
    "cancer = datasets.load_breast_cancer()"
   ]
  },
  {
   "cell_type": "code",
   "execution_count": 3,
   "id": "765cd306",
   "metadata": {},
   "outputs": [],
   "source": [
    "# Split into features and labels\n",
    "X = cancer.data\n",
    "y = cancer.target\n",
    "\n",
    "# Split into training and testing sets\n",
    "X_train, X_test, y_train, y_test = train_test_split(X, y, test_size=0.2, random_state=42)"
   ]
  },
  {
   "cell_type": "code",
   "execution_count": 4,
   "id": "0ed440ba",
   "metadata": {},
   "outputs": [
    {
     "name": "stdout",
     "output_type": "stream",
     "text": [
      "Fitting 5 folds for each of 24 candidates, totalling 120 fits\n"
     ]
    }
   ],
   "source": [
    "# Define the tune_hyperparameters function\n",
    "def tune_hyperparameters(name, model, param_grid, X_train, y_train):\n",
    "    cv = KFold(n_splits=5, shuffle=True, random_state=42)\n",
    "\n",
    "    if name == 'Grid Search':\n",
    "        search = GridSearchCV(model, param_grid, cv=cv, scoring='accuracy', n_jobs=-1, verbose=1)\n",
    "    elif name == 'Random Search':\n",
    "        search = RandomizedSearchCV(model, param_grid, cv=cv, scoring='accuracy', n_jobs=-1, verbose=1, n_iter=10)\n",
    "    else:\n",
    "        raise ValueError('Invalid name. Choose either Grid Search or Random Search.')\n",
    "\n",
    "    search.fit(X_train, y_train)\n",
    "    return search.best_estimator_, search\n",
    "\n",
    "# Parameter grid for Random Forest\n",
    "param_grid_rf = {\n",
    "    'n_estimators': [100, 200, 300],\n",
    "    'max_depth': [None, 10, 20, 30],\n",
    "    'criterion': ['gini', 'entropy']\n",
    "}\n",
    "\n",
    "# Tune hyperparameters for Random Forest\n",
    "best_rf, search_rf = tune_hyperparameters('Grid Search', RandomForestClassifier(random_state=42), param_grid_rf, X_train, y_train)"
   ]
  },
  {
   "cell_type": "code",
   "execution_count": 5,
   "id": "4e9315e5",
   "metadata": {},
   "outputs": [
    {
     "name": "stdout",
     "output_type": "stream",
     "text": [
      "Random Forest Accuracy: 0.96\n",
      "Random Forest Sensitivity: 0.99\n",
      "Random Forest Specificity: 0.93\n",
      "Best score: 0.96\n",
      "Best parameters: {'criterion': 'gini', 'max_depth': None, 'n_estimators': 300}\n"
     ]
    }
   ],
   "source": [
    "# Make predictions with the best Random Forest model\n",
    "y_pred_rf = best_rf.predict(X_test)\n",
    "\n",
    "# Evaluate the model\n",
    "accuracy_rf = accuracy_score(y_test, y_pred_rf)\n",
    "\n",
    "# Calculate sensitivity and specificity\n",
    "cm = confusion_matrix(y_test, y_pred_rf)\n",
    "sensitivity_rf = cm[1,1] / (cm[1,0] + cm[1,1])\n",
    "specificity_rf = cm[0,0] / (cm[0,0] + cm[0,1])\n",
    "\n",
    "# results\n",
    "print(f'Random Forest Accuracy: {accuracy_rf:.2f}')\n",
    "print(f'Random Forest Sensitivity: {sensitivity_rf:.2f}')\n",
    "print(f'Random Forest Specificity: {specificity_rf:.2f}')\n",
    "\n",
    "print(f'Best score: {search_rf.best_score_:.2f}')\n",
    "print(f'Best parameters: {search_rf.best_params_}')"
   ]
  }
 ],
 "metadata": {
  "kernelspec": {
   "display_name": "Python 3 (ipykernel)",
   "language": "python",
   "name": "python3"
  },
  "language_info": {
   "codemirror_mode": {
    "name": "ipython",
    "version": 3
   },
   "file_extension": ".py",
   "mimetype": "text/x-python",
   "name": "python",
   "nbconvert_exporter": "python",
   "pygments_lexer": "ipython3",
   "version": "3.10.9"
  }
 },
 "nbformat": 4,
 "nbformat_minor": 5
}
